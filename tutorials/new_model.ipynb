{
 "cells": [
  {
   "cell_type": "markdown",
   "id": "5d3724ae-9836-45f7-ac5c-8f4704cca50e",
   "metadata": {},
   "source": [
    "# Train a new model on your own data"
   ]
  },
  {
   "cell_type": "code",
   "execution_count": 1,
   "id": "dde45c56-33df-4d65-9d72-654e59aea905",
   "metadata": {},
   "outputs": [],
   "source": [
    "from pytorch_beam_search import seq2seq\n",
    "from post_ocr_correction import correction\n",
    "import re"
   ]
  },
  {
   "cell_type": "code",
   "execution_count": 2,
   "id": "3b62f43b-8a43-4afe-a6db-7f64da374435",
   "metadata": {},
   "outputs": [],
   "source": [
    "# training data\n",
    "\n",
    "source = [list(\"abcdefghijkl\"), list(\"mnopqrstwxyz\")]\n",
    "target = [list(\"abcdefghijk\"), list(\"mnopqrstwxy\")]"
   ]
  },
  {
   "cell_type": "code",
   "execution_count": 3,
   "id": "79d535ed-546f-460a-9530-b8bb65424f74",
   "metadata": {},
   "outputs": [],
   "source": [
    "# preprocessing\n",
    "\n",
    "source_index = seq2seq.Index(source)\n",
    "target_index = seq2seq.Index(target)\n",
    "\n",
    "X = source_index.text2tensor(source)\n",
    "Y = target_index.text2tensor(target)"
   ]
  },
  {
   "cell_type": "code",
   "execution_count": 4,
   "id": "eaa5bb25-5c85-45a8-a2cb-1a26ac9a11fb",
   "metadata": {},
   "outputs": [
    {
     "name": "stderr",
     "output_type": "stream",
     "text": [
      "/home/jarobyte/anaconda3/envs/poc/lib/python3.11/site-packages/torch/nn/modules/transformer.py:282: UserWarning: enable_nested_tensor is True, but self.use_nested_tensor is False because encoder_layer.self_attn.batch_first was not True(use batch_first for better inference performance)\n",
      "  warnings.warn(f\"enable_nested_tensor is True, but self.use_nested_tensor is False because {why_not_sparsity_fast_path}\")\n"
     ]
    },
    {
     "name": "stdout",
     "output_type": "stream",
     "text": [
      "Model: Seq2Seq Transformer\n",
      "Source index: <Seq2Seq Index with 28 items>\n",
      "Target index: <Seq2Seq Index with 26 items>\n",
      "Max sequence length: 32\n",
      "Embedding dimension: 32\n",
      "Feedforward dimension: 128\n",
      "Encoder layers: 2\n",
      "Decoder layers: 2\n",
      "Attention heads: 2\n",
      "Activation: relu\n",
      "Dropout: 0.0\n",
      "Trainable parameters: 63,130\n",
      "\n",
      "Training started\n",
      "X_train.shape: torch.Size([2, 14])\n",
      "Y_train.shape: torch.Size([2, 13])\n",
      "Epochs: 100\n",
      "Learning rate: 0.0001\n",
      "Weight decay: 0\n",
      "Epoch | Train                 | Minutes\n",
      "      | Loss     | Error Rate |\n",
      "---------------------------------------\n",
      "    1 |   3.4754 |     95.833 |     0.0\n",
      "    2 |   3.4545 |     95.833 |     0.0\n",
      "    3 |   3.4336 |     95.833 |     0.0\n",
      "    4 |   3.4131 |     95.833 |     0.0\n",
      "    5 |   3.3930 |     95.833 |     0.0\n",
      "    6 |   3.3730 |     95.833 |     0.0\n",
      "    7 |   3.3532 |     95.833 |     0.0\n",
      "    8 |   3.3340 |     95.833 |     0.0\n",
      "    9 |   3.3151 |     95.833 |     0.0\n",
      "   10 |   3.2967 |     95.833 |     0.0\n",
      "   11 |   3.2785 |     91.667 |     0.0\n",
      "   12 |   3.2605 |     91.667 |     0.0\n",
      "   13 |   3.2428 |     91.667 |     0.0\n",
      "   14 |   3.2250 |     91.667 |     0.0\n",
      "   15 |   3.2076 |     91.667 |     0.0\n",
      "   16 |   3.1903 |     91.667 |     0.0\n",
      "   17 |   3.1735 |     91.667 |     0.0\n",
      "   18 |   3.1569 |     91.667 |     0.0\n",
      "   19 |   3.1405 |     91.667 |     0.0\n",
      "   20 |   3.1242 |     91.667 |     0.0\n",
      "   21 |   3.1078 |     91.667 |     0.0\n",
      "   22 |   3.0915 |     91.667 |     0.0\n",
      "   23 |   3.0754 |     87.500 |     0.0\n",
      "   24 |   3.0592 |     87.500 |     0.0\n",
      "   25 |   3.0430 |     87.500 |     0.0\n",
      "   26 |   3.0265 |     87.500 |     0.0\n",
      "   27 |   3.0100 |     87.500 |     0.0\n",
      "   28 |   2.9933 |     87.500 |     0.0\n",
      "   29 |   2.9764 |     87.500 |     0.0\n",
      "   30 |   2.9593 |     87.500 |     0.0\n",
      "   31 |   2.9421 |     87.500 |     0.0\n",
      "   32 |   2.9250 |     87.500 |     0.0\n",
      "   33 |   2.9080 |     87.500 |     0.0\n",
      "   34 |   2.8911 |     87.500 |     0.0\n",
      "   35 |   2.8741 |     87.500 |     0.0\n",
      "   36 |   2.8568 |     87.500 |     0.0\n",
      "   37 |   2.8393 |     83.333 |     0.0\n",
      "   38 |   2.8217 |     83.333 |     0.0\n",
      "   39 |   2.8040 |     83.333 |     0.0\n",
      "   40 |   2.7862 |     83.333 |     0.0\n",
      "   41 |   2.7681 |     83.333 |     0.0\n",
      "   42 |   2.7499 |     79.167 |     0.0\n",
      "   43 |   2.7314 |     79.167 |     0.0\n",
      "   44 |   2.7129 |     79.167 |     0.0\n",
      "   45 |   2.6943 |     79.167 |     0.0\n",
      "   46 |   2.6755 |     75.000 |     0.0\n",
      "   47 |   2.6567 |     75.000 |     0.0\n",
      "   48 |   2.6377 |     70.833 |     0.0\n",
      "   49 |   2.6186 |     62.500 |     0.0\n",
      "   50 |   2.5995 |     62.500 |     0.0\n",
      "   51 |   2.5804 |     62.500 |     0.0\n",
      "   52 |   2.5614 |     62.500 |     0.0\n",
      "   53 |   2.5424 |     62.500 |     0.0\n",
      "   54 |   2.5234 |     62.500 |     0.0\n",
      "   55 |   2.5044 |     58.333 |     0.0\n",
      "   56 |   2.4853 |     58.333 |     0.0\n",
      "   57 |   2.4662 |     58.333 |     0.0\n",
      "   58 |   2.4470 |     54.167 |     0.0\n",
      "   59 |   2.4277 |     54.167 |     0.0\n",
      "   60 |   2.4085 |     54.167 |     0.0\n",
      "   61 |   2.3894 |     54.167 |     0.0\n",
      "   62 |   2.3704 |     54.167 |     0.0\n",
      "   63 |   2.3515 |     54.167 |     0.0\n",
      "   64 |   2.3328 |     54.167 |     0.0\n",
      "   65 |   2.3142 |     54.167 |     0.0\n",
      "   66 |   2.2956 |     54.167 |     0.0\n",
      "   67 |   2.2772 |     54.167 |     0.0\n",
      "   68 |   2.2587 |     54.167 |     0.0\n",
      "   69 |   2.2403 |     45.833 |     0.0\n",
      "   70 |   2.2219 |     41.667 |     0.0\n",
      "   71 |   2.2036 |     41.667 |     0.0\n",
      "   72 |   2.1854 |     41.667 |     0.0\n",
      "   73 |   2.1672 |     41.667 |     0.0\n",
      "   74 |   2.1493 |     37.500 |     0.0\n",
      "   75 |   2.1315 |     33.333 |     0.0\n",
      "   76 |   2.1139 |     29.167 |     0.0\n",
      "   77 |   2.0964 |     20.833 |     0.0\n",
      "   78 |   2.0791 |     20.833 |     0.0\n",
      "   79 |   2.0619 |     20.833 |     0.0\n",
      "   80 |   2.0448 |     20.833 |     0.0\n",
      "   81 |   2.0277 |     20.833 |     0.0\n",
      "   82 |   2.0108 |     20.833 |     0.0\n",
      "   83 |   1.9941 |     20.833 |     0.0\n",
      "   84 |   1.9776 |     16.667 |     0.0\n",
      "   85 |   1.9612 |     16.667 |     0.0\n",
      "   86 |   1.9449 |     16.667 |     0.0\n",
      "   87 |   1.9288 |     16.667 |     0.0\n",
      "   88 |   1.9128 |     16.667 |     0.0\n",
      "   89 |   1.8970 |     12.500 |     0.0\n",
      "   90 |   1.8813 |     12.500 |     0.0\n",
      "   91 |   1.8658 |     12.500 |     0.1\n",
      "   92 |   1.8505 |     12.500 |     0.1\n",
      "   93 |   1.8353 |      8.333 |     0.1\n",
      "   94 |   1.8203 |      8.333 |     0.1\n",
      "   95 |   1.8056 |      8.333 |     0.1\n",
      "   96 |   1.7910 |      8.333 |     0.1\n",
      "   97 |   1.7766 |      8.333 |     0.1\n",
      "   98 |   1.7623 |      8.333 |     0.1\n",
      "   99 |   1.7482 |      8.333 |     0.1\n",
      "  100 |   1.7342 |      8.333 |     0.1\n",
      "\n"
     ]
    }
   ],
   "source": [
    "# model\n",
    "\n",
    "model = seq2seq.Transformer(source_index, target_index)\n",
    "model.train()\n",
    "train_log = model.fit(X, Y, epochs = 100, progress_bar = 0)"
   ]
  },
  {
   "cell_type": "code",
   "execution_count": 5,
   "id": "375e3786-ec3c-43c1-8574-1b10b679f5b3",
   "metadata": {},
   "outputs": [],
   "source": [
    "# test data\n",
    "\n",
    "test = \"ghijklmnopqrst\"\n",
    "new_source = [list(test)]\n",
    "X_new = source_index.text2tensor(new_source)"
   ]
  },
  {
   "cell_type": "code",
   "execution_count": 6,
   "id": "806c7ab0-59e3-487b-9365-2a20446889ca",
   "metadata": {},
   "outputs": [],
   "source": [
    "# plain beam search\n",
    "\n",
    "model.eval()\n",
    "predictions, log_probabilities = seq2seq.beam_search(\n",
    "    model, \n",
    "    X_new,\n",
    "    progress_bar = 0\n",
    ")\n",
    "just_beam = target_index.tensor2text(predictions[:, 0, :])[0]\n",
    "just_beam = re.sub(r\"<START>|<PAD>|<UNK>|<END>.*\", \"\", just_beam)"
   ]
  },
  {
   "cell_type": "code",
   "execution_count": 7,
   "id": "dedf615c-1bc6-4b59-8a5e-e00a721a113a",
   "metadata": {},
   "outputs": [],
   "source": [
    "# post ocr correction\n",
    "\n",
    "disjoint_beam = correction.disjoint(\n",
    "    test,\n",
    "    model,\n",
    "    source_index,\n",
    "    target_index,\n",
    "    5,\n",
    "    \"beam_search\",\n",
    ")\n",
    "votes, n_grams_beam = correction.n_grams(\n",
    "    test,\n",
    "    model,\n",
    "    source_index,\n",
    "    target_index,\n",
    "    5,\n",
    "    \"beam_search\",\n",
    "    \"triangle\"\n",
    ")"
   ]
  },
  {
   "cell_type": "code",
   "execution_count": 8,
   "id": "7d0bf026-9d86-400c-9cd5-79e86c72a8d7",
   "metadata": {},
   "outputs": [
    {
     "name": "stdout",
     "output_type": "stream",
     "text": [
      "\n",
      "results\n",
      "  test data                       ghijklmnopqrst\n",
      "  plain beam search               mny\n",
      "  disjoint windows, beam search   mbbbembbsomnp\n",
      "  n-grams, beam search, triangle  mbbbyyybobrsoa\n"
     ]
    }
   ],
   "source": [
    "print(\"\\nresults\")\n",
    "print(\"  test data                      \", test)\n",
    "print(\"  plain beam search              \", just_beam)\n",
    "print(\"  disjoint windows, beam search  \", disjoint_beam)\n",
    "print(\"  n-grams, beam search, triangle \", n_grams_beam)"
   ]
  }
 ],
 "metadata": {
  "kernelspec": {
   "display_name": "Python 3 (ipykernel)",
   "language": "python",
   "name": "python3"
  },
  "language_info": {
   "codemirror_mode": {
    "name": "ipython",
    "version": 3
   },
   "file_extension": ".py",
   "mimetype": "text/x-python",
   "name": "python",
   "nbconvert_exporter": "python",
   "pygments_lexer": "ipython3",
   "version": "3.11.5"
  }
 },
 "nbformat": 4,
 "nbformat_minor": 5
}
