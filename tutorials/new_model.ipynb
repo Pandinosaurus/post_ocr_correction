{
 "cells": [
  {
   "cell_type": "markdown",
   "id": "5d3724ae-9836-45f7-ac5c-8f4704cca50e",
   "metadata": {},
   "source": [
    "# Train a new model on your own data"
   ]
  },
  {
   "cell_type": "code",
   "execution_count": 1,
   "id": "dde45c56-33df-4d65-9d72-654e59aea905",
   "metadata": {},
   "outputs": [],
   "source": [
    "from pytorch_beam_search import seq2seq\n",
    "from post_ocr_correction import correction\n",
    "import re"
   ]
  },
  {
   "cell_type": "code",
   "execution_count": 2,
   "id": "e1237c76-7fa6-4670-8e47-c5124cb07e15",
   "metadata": {},
   "outputs": [],
   "source": [
    "# training data\n",
    "\n",
    "source = [list(\"abcdefghijkl\"), list(\"mnopqrstwxyz\")]\n",
    "target = [list(\"abcdefghijk\"), list(\"mnopqrstwxy\")]\n",
    "\n",
    "source_index = seq2seq.Index(source)\n",
    "target_index = seq2seq.Index(target)\n",
    "\n",
    "X = source_index.text2tensor(source)\n",
    "Y = target_index.text2tensor(target)"
   ]
  },
  {
   "cell_type": "code",
   "execution_count": 8,
   "id": "eaa5bb25-5c85-45a8-a2cb-1a26ac9a11fb",
   "metadata": {},
   "outputs": [
    {
     "name": "stderr",
     "output_type": "stream",
     "text": [
      "/home/jarobyte/anaconda3/envs/poc/lib/python3.11/site-packages/torch/nn/modules/transformer.py:282: UserWarning: enable_nested_tensor is True, but self.use_nested_tensor is False because encoder_layer.self_attn.batch_first was not True(use batch_first for better inference performance)\n",
      "  warnings.warn(f\"enable_nested_tensor is True, but self.use_nested_tensor is False because {why_not_sparsity_fast_path}\")\n"
     ]
    },
    {
     "name": "stdout",
     "output_type": "stream",
     "text": [
      "Model: Seq2Seq Transformer\n",
      "Source index: <Seq2Seq Index with 28 items>\n",
      "Target index: <Seq2Seq Index with 26 items>\n",
      "Max sequence length: 32\n",
      "Embedding dimension: 32\n",
      "Feedforward dimension: 128\n",
      "Encoder layers: 2\n",
      "Decoder layers: 2\n",
      "Attention heads: 2\n",
      "Activation: relu\n",
      "Dropout: 0.0\n",
      "Trainable parameters: 63,130\n",
      "\n",
      "Training started\n",
      "X_train.shape: torch.Size([2, 14])\n",
      "Y_train.shape: torch.Size([2, 13])\n",
      "Epochs: 100\n",
      "Learning rate: 0.0001\n",
      "Weight decay: 0\n",
      "Epoch | Train                 | Minutes\n",
      "      | Loss     | Error Rate |\n",
      "---------------------------------------\n",
      "    1 |   3.3474 |     95.833 |     0.0\n",
      "    2 |   3.3235 |     95.833 |     0.0\n",
      "    3 |   3.2997 |     95.833 |     0.0\n",
      "    4 |   3.2762 |     95.833 |     0.0\n",
      "    5 |   3.2531 |     95.833 |     0.0\n",
      "    6 |   3.2305 |     95.833 |     0.0\n",
      "    7 |   3.2084 |     95.833 |     0.0\n",
      "    8 |   3.1867 |     91.667 |     0.0\n",
      "    9 |   3.1652 |     91.667 |     0.0\n",
      "   10 |   3.1442 |     91.667 |     0.0\n",
      "   11 |   3.1240 |     91.667 |     0.0\n",
      "   12 |   3.1043 |     91.667 |     0.0\n",
      "   13 |   3.0848 |     91.667 |     0.0\n",
      "   14 |   3.0657 |     91.667 |     0.0\n",
      "   15 |   3.0469 |     91.667 |     0.0\n",
      "   16 |   3.0284 |     87.500 |     0.0\n",
      "   17 |   3.0103 |     87.500 |     0.0\n",
      "   18 |   2.9922 |     87.500 |     0.0\n",
      "   19 |   2.9743 |     87.500 |     0.0\n",
      "   20 |   2.9563 |     83.333 |     0.0\n",
      "   21 |   2.9385 |     83.333 |     0.0\n",
      "   22 |   2.9208 |     83.333 |     0.0\n",
      "   23 |   2.9031 |     83.333 |     0.0\n",
      "   24 |   2.8854 |     83.333 |     0.0\n",
      "   25 |   2.8678 |     79.167 |     0.0\n",
      "   26 |   2.8502 |     75.000 |     0.0\n",
      "   27 |   2.8326 |     75.000 |     0.0\n",
      "   28 |   2.8149 |     75.000 |     0.0\n",
      "   29 |   2.7972 |     75.000 |     0.0\n",
      "   30 |   2.7797 |     75.000 |     0.0\n",
      "   31 |   2.7623 |     75.000 |     0.0\n",
      "   32 |   2.7450 |     75.000 |     0.0\n",
      "   33 |   2.7278 |     75.000 |     0.0\n",
      "   34 |   2.7108 |     66.667 |     0.0\n",
      "   35 |   2.6940 |     66.667 |     0.0\n",
      "   36 |   2.6772 |     66.667 |     0.0\n",
      "   37 |   2.6606 |     58.333 |     0.0\n",
      "   38 |   2.6439 |     58.333 |     0.0\n",
      "   39 |   2.6273 |     50.000 |     0.0\n",
      "   40 |   2.6107 |     50.000 |     0.0\n",
      "   41 |   2.5942 |     50.000 |     0.0\n",
      "   42 |   2.5777 |     50.000 |     0.0\n",
      "   43 |   2.5612 |     45.833 |     0.0\n",
      "   44 |   2.5447 |     41.667 |     0.0\n",
      "   45 |   2.5282 |     41.667 |     0.0\n",
      "   46 |   2.5118 |     41.667 |     0.0\n",
      "   47 |   2.4954 |     41.667 |     0.0\n",
      "   48 |   2.4792 |     41.667 |     0.0\n",
      "   49 |   2.4633 |     41.667 |     0.0\n",
      "   50 |   2.4474 |     41.667 |     0.0\n",
      "   51 |   2.4315 |     41.667 |     0.0\n",
      "   52 |   2.4157 |     41.667 |     0.0\n",
      "   53 |   2.3999 |     41.667 |     0.0\n",
      "   54 |   2.3841 |     41.667 |     0.0\n",
      "   55 |   2.3684 |     41.667 |     0.0\n",
      "   56 |   2.3526 |     41.667 |     0.0\n",
      "   57 |   2.3368 |     41.667 |     0.0\n",
      "   58 |   2.3211 |     41.667 |     0.0\n",
      "   59 |   2.3054 |     41.667 |     0.0\n",
      "   60 |   2.2898 |     41.667 |     0.0\n",
      "   61 |   2.2743 |     41.667 |     0.0\n",
      "   62 |   2.2587 |     41.667 |     0.0\n",
      "   63 |   2.2432 |     41.667 |     0.0\n",
      "   64 |   2.2278 |     41.667 |     0.0\n",
      "   65 |   2.2124 |     41.667 |     0.0\n",
      "   66 |   2.1972 |     37.500 |     0.0\n",
      "   67 |   2.1820 |     33.333 |     0.0\n",
      "   68 |   2.1669 |     33.333 |     0.0\n",
      "   69 |   2.1519 |     33.333 |     0.0\n",
      "   70 |   2.1370 |     33.333 |     0.0\n",
      "   71 |   2.1221 |     33.333 |     0.0\n",
      "   72 |   2.1074 |     33.333 |     0.0\n",
      "   73 |   2.0927 |     33.333 |     0.0\n",
      "   74 |   2.0782 |     33.333 |     0.0\n",
      "   75 |   2.0637 |     29.167 |     0.0\n",
      "   76 |   2.0493 |     29.167 |     0.0\n",
      "   77 |   2.0349 |     29.167 |     0.0\n",
      "   78 |   2.0207 |     29.167 |     0.0\n",
      "   79 |   2.0065 |     29.167 |     0.0\n",
      "   80 |   1.9924 |     25.000 |     0.0\n",
      "   81 |   1.9785 |     25.000 |     0.0\n",
      "   82 |   1.9647 |     25.000 |     0.0\n",
      "   83 |   1.9510 |     25.000 |     0.0\n",
      "   84 |   1.9374 |     20.833 |     0.0\n",
      "   85 |   1.9238 |     20.833 |     0.0\n",
      "   86 |   1.9104 |     20.833 |     0.0\n",
      "   87 |   1.8970 |     20.833 |     0.0\n",
      "   88 |   1.8838 |     20.833 |     0.0\n",
      "   89 |   1.8706 |     20.833 |     0.0\n",
      "   90 |   1.8575 |     20.833 |     0.0\n",
      "   91 |   1.8444 |     20.833 |     0.0\n",
      "   92 |   1.8314 |     20.833 |     0.0\n",
      "   93 |   1.8185 |     20.833 |     0.0\n",
      "   94 |   1.8056 |     20.833 |     0.0\n",
      "   95 |   1.7928 |     16.667 |     0.0\n",
      "   96 |   1.7801 |     16.667 |     0.0\n",
      "   97 |   1.7675 |     16.667 |     0.0\n",
      "   98 |   1.7550 |     16.667 |     0.0\n",
      "   99 |   1.7425 |     16.667 |     0.0\n",
      "  100 |   1.7302 |     16.667 |     0.0\n",
      "\n"
     ]
    }
   ],
   "source": [
    "# model\n",
    "\n",
    "model = seq2seq.Transformer(source_index, target_index)\n",
    "model.train()\n",
    "train_log = model.fit(X, Y, epochs = 100, progress_bar = 0)"
   ]
  },
  {
   "cell_type": "code",
   "execution_count": 4,
   "id": "375e3786-ec3c-43c1-8574-1b10b679f5b3",
   "metadata": {},
   "outputs": [],
   "source": [
    "# test data\n",
    "\n",
    "test = \"ghijklmnopqrst\"\n",
    "new_source = [list(test)]\n",
    "X_new = source_index.text2tensor(new_source)"
   ]
  },
  {
   "cell_type": "code",
   "execution_count": 5,
   "id": "806c7ab0-59e3-487b-9365-2a20446889ca",
   "metadata": {},
   "outputs": [],
   "source": [
    "# plain beam search\n",
    "\n",
    "model.eval()\n",
    "predictions, log_probabilities = seq2seq.beam_search(\n",
    "    model, \n",
    "    X_new,\n",
    "    progress_bar = 0\n",
    ")\n",
    "just_beam = target_index.tensor2text(predictions[:, 0, :])[0]\n",
    "just_beam = re.sub(r\"<START>|<PAD>|<UNK>|<END>.*\", \"\", just_beam)"
   ]
  },
  {
   "cell_type": "code",
   "execution_count": 6,
   "id": "dedf615c-1bc6-4b59-8a5e-e00a721a113a",
   "metadata": {},
   "outputs": [],
   "source": [
    "# post ocr correction\n",
    "\n",
    "disjoint_beam = correction.disjoint(\n",
    "    test,\n",
    "    model,\n",
    "    source_index,\n",
    "    target_index,\n",
    "    5,\n",
    "    \"beam_search\",\n",
    ")\n",
    "votes, n_grams_beam = correction.n_grams(\n",
    "    test,\n",
    "    model,\n",
    "    source_index,\n",
    "    target_index,\n",
    "    5,\n",
    "    \"beam_search\",\n",
    "    \"triangle\"\n",
    ")"
   ]
  },
  {
   "cell_type": "code",
   "execution_count": 7,
   "id": "7d0bf026-9d86-400c-9cd5-79e86c72a8d7",
   "metadata": {},
   "outputs": [
    {
     "name": "stdout",
     "output_type": "stream",
     "text": [
      "\n",
      "results\n",
      "  test data                       ghijklmnopqrst\n",
      "  plain beam search               mnopqrstwxy\n",
      "  disjoint windows, beam search   mnopqmnopomnopq\n",
      "  n-grams, beam search, triangle  mnoonooonooopq\n"
     ]
    }
   ],
   "source": [
    "print(\"\\nresults\")\n",
    "print(\"  test data                      \", test)\n",
    "print(\"  plain beam search              \", just_beam)\n",
    "print(\"  disjoint windows, beam search  \", disjoint_beam)\n",
    "print(\"  n-grams, beam search, triangle \", n_grams_beam)"
   ]
  }
 ],
 "metadata": {
  "kernelspec": {
   "display_name": "Python 3 (ipykernel)",
   "language": "python",
   "name": "python3"
  },
  "language_info": {
   "codemirror_mode": {
    "name": "ipython",
    "version": 3
   },
   "file_extension": ".py",
   "mimetype": "text/x-python",
   "name": "python",
   "nbconvert_exporter": "python",
   "pygments_lexer": "ipython3",
   "version": "3.11.5"
  }
 },
 "nbformat": 4,
 "nbformat_minor": 5
}
